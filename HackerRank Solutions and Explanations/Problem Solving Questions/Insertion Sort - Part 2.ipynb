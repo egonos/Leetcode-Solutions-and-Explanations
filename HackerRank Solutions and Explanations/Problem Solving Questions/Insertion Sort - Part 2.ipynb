{
 "cells": [
  {
   "attachments": {},
   "cell_type": "markdown",
   "metadata": {},
   "source": [
    "# Explanation\n",
    "\n",
    "For this problem I've used two pointers. The first solution I came up with works fine but not fully correct because in each index it only conducts one replacement. Then, I've worked on it and came up with the second solution. `inner_pointer` is to bridge the gap between the question requirements and the solution I've provided. After each replacement it goes backwards and do replacements by comparing the subsequents numbers. "
   ]
  },
  {
   "cell_type": "code",
   "execution_count": 5,
   "metadata": {},
   "outputs": [],
   "source": [
    "def insertionSort(n,arr):\n",
    "    pointer1,pointer2 = 0,1\n",
    "    while pointer2 < n:\n",
    "        if arr[pointer1]>arr[pointer2]:\n",
    "            arr[pointer1],arr[pointer2] = arr[pointer2],arr[pointer1]\n",
    "            pointer1 += 1\n",
    "            pointer2 += 1\n",
    "            print(*arr)\n",
    "        else:\n",
    "            pointer1 += 1\n",
    "            pointer2 += 1\n",
    "        "
   ]
  },
  {
   "cell_type": "code",
   "execution_count": 6,
   "metadata": {},
   "outputs": [
    {
     "name": "stdout",
     "output_type": "stream",
     "text": [
      "1 3 4 5 6 2\n",
      "1 3 4 5 2 6\n"
     ]
    }
   ],
   "source": [
    "arr = [1,4,3,5,6,2]\n",
    "insertionSort(6,arr)"
   ]
  },
  {
   "cell_type": "code",
   "execution_count": 7,
   "metadata": {},
   "outputs": [
    {
     "name": "stdout",
     "output_type": "stream",
     "text": [
      "3 4 5 7 6 2 1\n",
      "3 4 5 6 7 2 1\n",
      "3 4 5 6 2 7 1\n",
      "3 4 5 6 2 1 7\n"
     ]
    }
   ],
   "source": [
    "arr = [3,4,7,5,6,2,1]\n",
    "insertionSort(7,arr)"
   ]
  },
  {
   "cell_type": "code",
   "execution_count": 8,
   "metadata": {},
   "outputs": [],
   "source": [
    "def insertionSort2(n,arr):\n",
    "    pointer1,pointer2 = 0,1\n",
    "    while pointer2 < n:\n",
    "        if arr[pointer1]>arr[pointer2]:\n",
    "            arr[pointer1],arr[pointer2] = arr[pointer2],arr[pointer1]\n",
    "            \n",
    "            inner_pointer = pointer1\n",
    "            while inner_pointer > 0:\n",
    "                if arr[inner_pointer-1]>arr[inner_pointer]:\n",
    "                    arr[inner_pointer-1],arr[inner_pointer] = arr[inner_pointer],arr[inner_pointer-1]\n",
    "                    inner_pointer -= 1\n",
    "                else:\n",
    "                    break\n",
    "\n",
    "        pointer1 += 1\n",
    "        pointer2 += 1\n",
    "\n",
    "        print(*arr)\n",
    "\n",
    "        "
   ]
  },
  {
   "cell_type": "code",
   "execution_count": 10,
   "metadata": {},
   "outputs": [
    {
     "name": "stdout",
     "output_type": "stream",
     "text": [
      "1 4 3 5 6 2\n",
      "1 3 4 5 6 2\n",
      "1 3 4 5 6 2\n",
      "1 3 4 5 6 2\n",
      "1 2 3 4 5 6\n"
     ]
    }
   ],
   "source": [
    "arr = [1,4,3,5,6,2]\n",
    "insertionSort2(6,arr)"
   ]
  },
  {
   "cell_type": "code",
   "execution_count": 9,
   "metadata": {},
   "outputs": [
    {
     "name": "stdout",
     "output_type": "stream",
     "text": [
      "1 4 3 5 6 2\n",
      "1 3 4 5 6 2\n",
      "1 3 4 5 6 2\n",
      "1 3 4 5 6 2\n",
      "1 2 3 4 5 6\n"
     ]
    }
   ],
   "source": [
    "arr = [1,4,3,5,6,2]\n",
    "insertionSort2(6,arr)"
   ]
  }
 ],
 "metadata": {
  "kernelspec": {
   "display_name": "base",
   "language": "python",
   "name": "python3"
  },
  "language_info": {
   "codemirror_mode": {
    "name": "ipython",
    "version": 3
   },
   "file_extension": ".py",
   "mimetype": "text/x-python",
   "name": "python",
   "nbconvert_exporter": "python",
   "pygments_lexer": "ipython3",
   "version": "3.7.13"
  },
  "orig_nbformat": 4
 },
 "nbformat": 4,
 "nbformat_minor": 2
}
