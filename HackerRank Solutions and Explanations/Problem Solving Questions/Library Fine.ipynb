{
 "cells": [
  {
   "attachments": {},
   "cell_type": "markdown",
   "metadata": {},
   "source": [
    "# Explanation\n",
    "\n",
    "All I've done is to code the instructions..."
   ]
  },
  {
   "cell_type": "code",
   "execution_count": 1,
   "metadata": {},
   "outputs": [],
   "source": [
    "def libraryFine(d1, m1, y1, d2, m2, y2):\n",
    "    if y1 > y2:\n",
    "        return 10000\n",
    "    \n",
    "    if m1 > m2 and y1 == y2:\n",
    "        return abs(m2-m1) * 500\n",
    "    \n",
    "    if d1 > d2 and m1 == m2 and y1 == y2:\n",
    "        return abs(d2-d1)*15\n",
    "    \n",
    "    else:\n",
    "        \n",
    "        return 0"
   ]
  }
 ],
 "metadata": {
  "kernelspec": {
   "display_name": "base",
   "language": "python",
   "name": "python3"
  },
  "language_info": {
   "codemirror_mode": {
    "name": "ipython",
    "version": 3
   },
   "file_extension": ".py",
   "mimetype": "text/x-python",
   "name": "python",
   "nbconvert_exporter": "python",
   "pygments_lexer": "ipython3",
   "version": "3.7.13"
  },
  "orig_nbformat": 4
 },
 "nbformat": 4,
 "nbformat_minor": 2
}
