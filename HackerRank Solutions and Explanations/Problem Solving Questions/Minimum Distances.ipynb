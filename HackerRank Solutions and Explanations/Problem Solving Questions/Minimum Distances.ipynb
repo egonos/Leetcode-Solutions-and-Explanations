{
 "cells": [
  {
   "attachments": {},
   "cell_type": "markdown",
   "metadata": {},
   "source": [
    "# Explanation\n",
    "\n",
    "The code uses a dictionary to store all the indexes of all numbers in the `a`. In each update, it checks whether there is a smaller distance:\n",
    "\n",
    "min_val = min(min_val,idx-store[num][-2])"
   ]
  },
  {
   "cell_type": "code",
   "execution_count": 1,
   "metadata": {},
   "outputs": [],
   "source": [
    "def minimumDistances(a):\n",
    "    store = {}\n",
    "    min_val = float('inf')\n",
    "    for idx,num in enumerate(a):\n",
    "        if num not in store:\n",
    "            store[num] = [idx]\n",
    "            \n",
    "        else:\n",
    "            store[num].append(idx)\n",
    "            min_val = min(min_val,idx-store[num][-2])\n",
    "   \n",
    "            \n",
    "    if min_val == float(\"inf\"): \n",
    "        return -1\n",
    "    else:\n",
    "         return min_val "
   ]
  }
 ],
 "metadata": {
  "kernelspec": {
   "display_name": "base",
   "language": "python",
   "name": "python3"
  },
  "language_info": {
   "codemirror_mode": {
    "name": "ipython",
    "version": 3
   },
   "file_extension": ".py",
   "mimetype": "text/x-python",
   "name": "python",
   "nbconvert_exporter": "python",
   "pygments_lexer": "ipython3",
   "version": "3.7.13"
  },
  "orig_nbformat": 4
 },
 "nbformat": 4,
 "nbformat_minor": 2
}
