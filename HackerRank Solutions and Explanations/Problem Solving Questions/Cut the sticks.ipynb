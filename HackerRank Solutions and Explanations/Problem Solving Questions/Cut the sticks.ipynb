{
 "cells": [
  {
   "attachments": {},
   "cell_type": "markdown",
   "metadata": {},
   "source": [
    "# Explanation\n",
    "\n",
    "To solve this problem, I've sorted the array and until there is no element left in array. In each iteration,\n",
    "* I substracted the left outermost variable.\n",
    "* I removed 0's and store the length of the array."
   ]
  },
  {
   "cell_type": "code",
   "execution_count": 1,
   "metadata": {},
   "outputs": [],
   "source": [
    "def cutTheSticks(arr):\n",
    "    lengths = [len(arr)]\n",
    "    arr.sort()\n",
    "    while arr:\n",
    "        sub = arr[0]\n",
    "        arr = [arr[i]-sub for i in range(len(arr))]\n",
    "        i = 0\n",
    "        while i<len(arr) and arr[i] == 0 :\n",
    "            i+=1\n",
    "        arr = arr[i:]\n",
    "        lengths.append(len(arr))\n",
    "        \n",
    "    return lengths[:-1]"
   ]
  }
 ],
 "metadata": {
  "kernelspec": {
   "display_name": "base",
   "language": "python",
   "name": "python3"
  },
  "language_info": {
   "codemirror_mode": {
    "name": "ipython",
    "version": 3
   },
   "file_extension": ".py",
   "mimetype": "text/x-python",
   "name": "python",
   "nbconvert_exporter": "python",
   "pygments_lexer": "ipython3",
   "version": "3.7.13"
  },
  "orig_nbformat": 4
 },
 "nbformat": 4,
 "nbformat_minor": 2
}
