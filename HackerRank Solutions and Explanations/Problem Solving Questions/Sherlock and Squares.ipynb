{
 "cells": [
  {
   "attachments": {},
   "cell_type": "markdown",
   "metadata": {},
   "source": [
    "# Explanation\n",
    "\n",
    "To solve this problem, I've considered the squares starting from one instead of checking whether each number in the interval is a sum of another number. I've also used `itertools.count` to make it suitable for every interval."
   ]
  },
  {
   "cell_type": "code",
   "execution_count": 1,
   "metadata": {},
   "outputs": [],
   "source": [
    "import itertools\n",
    "def squares(a, b):\n",
    "    count = itertools.count(start=1,step = 1)\n",
    "    counter = 0\n",
    "    for num in count:\n",
    "        sqr = num**2\n",
    "        if sqr < a :\n",
    "            continue\n",
    "        \n",
    "        if sqr > b:\n",
    "            break\n",
    "        \n",
    "        if sqr >= a and sqr <= b:\n",
    "            counter+=1\n",
    "            \n",
    "    return counter\n",
    "        "
   ]
  }
 ],
 "metadata": {
  "kernelspec": {
   "display_name": "base",
   "language": "python",
   "name": "python3"
  },
  "language_info": {
   "codemirror_mode": {
    "name": "ipython",
    "version": 3
   },
   "file_extension": ".py",
   "mimetype": "text/x-python",
   "name": "python",
   "nbconvert_exporter": "python",
   "pygments_lexer": "ipython3",
   "version": "3.7.13"
  },
  "orig_nbformat": 4
 },
 "nbformat": 4,
 "nbformat_minor": 2
}
