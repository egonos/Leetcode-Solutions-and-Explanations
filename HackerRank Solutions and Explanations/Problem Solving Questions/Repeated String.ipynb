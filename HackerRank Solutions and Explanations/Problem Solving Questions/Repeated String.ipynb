{
 "cells": [
  {
   "attachments": {},
   "cell_type": "markdown",
   "metadata": {},
   "source": [
    "# Explanation\n",
    "\n",
    "There are two cases:\n",
    "\n",
    "* n < s: In that case we have to count the number of occurances within the slice `s[:n]`\n",
    "* n >= s: In that case we can automatically add the full_division*a_counts then add the a_counts in the reaminder slice. "
   ]
  },
  {
   "cell_type": "code",
   "execution_count": null,
   "metadata": {},
   "outputs": [],
   "source": [
    "def repeatedString(s, n):\n",
    "    s_len = len(s)\n",
    "    if n <= s_len:\n",
    "        return s[:n].count('a')\n",
    "    \n",
    "    else:\n",
    "        a_count = s.count('a')\n",
    "        total = (n//s_len)*a_count\n",
    "        remainder = n%s_len\n",
    "        total+= s[:remainder].count('a')\n",
    "        return total"
   ]
  }
 ],
 "metadata": {
  "language_info": {
   "name": "python"
  },
  "orig_nbformat": 4
 },
 "nbformat": 4,
 "nbformat_minor": 2
}
