{
 "cells": [
  {
   "attachments": {},
   "cell_type": "markdown",
   "metadata": {},
   "source": [
    "# Explanation\n",
    "\n",
    "The most important thing for these kinds of problems is to understand the patterns. Look this question for instance. The pattern is to use n-(idx+1) spaces and idx+1 `#` symbol in each line."
   ]
  },
  {
   "cell_type": "code",
   "execution_count": null,
   "metadata": {},
   "outputs": [],
   "source": [
    "def staircase(n):\n",
    "    count = 1\n",
    "    while count <= n:\n",
    "        \n",
    "        print((n-count)*' ',count*\"#\",sep = '')\n",
    "        count+=1"
   ]
  }
 ],
 "metadata": {
  "language_info": {
   "name": "python"
  },
  "orig_nbformat": 4
 },
 "nbformat": 4,
 "nbformat_minor": 2
}
