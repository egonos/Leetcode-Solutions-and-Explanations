{
 "cells": [
  {
   "attachments": {},
   "cell_type": "markdown",
   "metadata": {},
   "source": [
    "# Explanation\n",
    "\n",
    "* Bobby will buy as much as he able to. The code calculates it and add it to the final result immediately.\n",
    "* From now on, the code tries to compute the number of free chocolate he hets from returning the wrappers.\n",
    "\n",
    "total: Final result\n",
    "eaten: The number of wrappers Bobby has at a given time.\n",
    "eat: The number of wrappers Bobby gained after eating free stuff."
   ]
  },
  {
   "cell_type": "code",
   "execution_count": 19,
   "metadata": {},
   "outputs": [],
   "source": [
    "def chocolateFeast(n, c, m):\n",
    "    eaten = n//c\n",
    "    remainder = n%c\n",
    "    total = eaten\n",
    "    while eaten>=m:\n",
    "        eat = eaten//m\n",
    "        eaten = eaten%m\n",
    "        total += eat\n",
    "        eaten += eat\n",
    "    \n",
    "    \n",
    "   \n",
    "      \n",
    "        \n",
    "    return total"
   ]
  }
 ],
 "metadata": {
  "kernelspec": {
   "display_name": "base",
   "language": "python",
   "name": "python3"
  },
  "language_info": {
   "codemirror_mode": {
    "name": "ipython",
    "version": 3
   },
   "file_extension": ".py",
   "mimetype": "text/x-python",
   "name": "python",
   "nbconvert_exporter": "python",
   "pygments_lexer": "ipython3",
   "version": "3.7.13"
  },
  "orig_nbformat": 4
 },
 "nbformat": 4,
 "nbformat_minor": 2
}
