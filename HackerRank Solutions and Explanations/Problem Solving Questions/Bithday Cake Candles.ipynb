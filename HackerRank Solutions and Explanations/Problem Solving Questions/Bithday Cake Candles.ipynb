{
 "cells": [
  {
   "attachments": {},
   "cell_type": "markdown",
   "metadata": {},
   "source": [
    "# Explanation\n",
    "\n",
    "We can solve this problem by:\n",
    "\n",
    "* Finding the maximum via `max()`.\n",
    "* Counting the number of occurences by `.count()`."
   ]
  },
  {
   "cell_type": "code",
   "execution_count": null,
   "metadata": {},
   "outputs": [],
   "source": [
    "def birthdayCakeCandles(candles):\n",
    "    max_candles = max(candles)\n",
    "    return candles.count(max_candles)"
   ]
  }
 ],
 "metadata": {
  "language_info": {
   "name": "python"
  },
  "orig_nbformat": 4
 },
 "nbformat": 4,
 "nbformat_minor": 2
}
