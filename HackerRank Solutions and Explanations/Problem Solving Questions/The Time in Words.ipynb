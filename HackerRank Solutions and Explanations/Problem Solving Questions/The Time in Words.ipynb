{
 "cells": [
  {
   "attachments": {},
   "cell_type": "markdown",
   "metadata": {},
   "source": [
    "# Explanation\n",
    "\n",
    "While working on this problem the main part I did not consider is the fact that we have to use `minute` instead of `minutes` if m == 1 and 59. Besides that, all we are doing is to define different conditional statements to fit the function to the all input scenarios.\n",
    "\n",
    "* h%12: To print pm times correctly (one instead of thireteen)\n",
    "* 30,15: Define half and quarter conditions (It's important to define a differenct condition for m = 45).\n",
    "* +1: 13:50 (ten minutes to *two - not one*) "
   ]
  },
  {
   "cell_type": "code",
   "execution_count": null,
   "metadata": {},
   "outputs": [],
   "source": [
    "def timeInWords(h, m):\n",
    "    word_dict = {\n",
    "        0: \"o' clock\",\n",
    "        1: 'one',\n",
    "        2: 'two',\n",
    "        3: 'three',\n",
    "        4: \"four\",\n",
    "        5: 'five',\n",
    "        6: 'six',\n",
    "        7: 'seven',\n",
    "        8: 'eight',\n",
    "        9: 'nine',\n",
    "        10: 'ten',\n",
    "        11: 'eleven',\n",
    "        12: 'twelve',\n",
    "        13: 'thirteen',\n",
    "        14: 'fourteen',\n",
    "        15: 'quarter',\n",
    "        16: 'sixteen',\n",
    "        17: 'seventeen',\n",
    "        18: 'eighteen',\n",
    "        19: 'nineteen',\n",
    "        20: 'twenty',\n",
    "        21: 'twenty one',\n",
    "        22: 'twenty two',\n",
    "        23: 'twenty three',\n",
    "        24: 'twenty four',\n",
    "        25: 'twenty five',\n",
    "        26: 'twenty six',\n",
    "        27: 'twenty seven',\n",
    "        28: 'twenty eight',\n",
    "        29: 'twenty nine',\n",
    "        30: 'half'\n",
    "    }\n",
    "    \n",
    "    if m == 0:\n",
    "        return ' '.join([word_dict[h],word_dict[m]])\n",
    "    elif m == 1:\n",
    "        return ' '.join([word_dict[m], \"minute past\", word_dict[h]])\n",
    "    \n",
    "    elif m == 59:\n",
    "        return ' '.join([\"one minute to\", word_dict[h%12+1]])\n",
    "    \n",
    "    elif m == 30 or m == 15:\n",
    "        return ' '.join([word_dict[m],\"past\",word_dict[h]])\n",
    "    \n",
    "    elif m<30 and m != 15:\n",
    "        return ' '.join([word_dict[m],\"minutes past\",word_dict[h]])\n",
    "    \n",
    "    else:\n",
    "        if m!=45:\n",
    "            \n",
    "            return ' '.join([word_dict[60-m], 'minutes to', word_dict[h%12 +1]])\n",
    "        \n",
    "        else:\n",
    "            \n",
    "            return ' '.join([word_dict[60-m], 'to', word_dict[h%12 +1]])\n",
    "        "
   ]
  }
 ],
 "metadata": {
  "kernelspec": {
   "display_name": "base",
   "language": "python",
   "name": "python3"
  },
  "language_info": {
   "codemirror_mode": {
    "name": "ipython",
    "version": 3
   },
   "file_extension": ".py",
   "mimetype": "text/x-python",
   "name": "python",
   "nbconvert_exporter": "python",
   "pygments_lexer": "ipython3",
   "version": "3.7.13"
  },
  "orig_nbformat": 4
 },
 "nbformat": 4,
 "nbformat_minor": 2
}
