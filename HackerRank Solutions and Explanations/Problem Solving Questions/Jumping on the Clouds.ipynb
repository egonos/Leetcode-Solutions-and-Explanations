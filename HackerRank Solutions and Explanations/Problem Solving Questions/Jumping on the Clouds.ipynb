{
 "cells": [
  {
   "attachments": {},
   "cell_type": "markdown",
   "metadata": {},
   "source": [
    "# Explanation\n",
    "\n",
    "To solve this question, I've used a greedy apprach. The code below iterates in reverse and tries to jump 2 steps as much as possible."
   ]
  },
  {
   "cell_type": "code",
   "execution_count": 24,
   "metadata": {},
   "outputs": [],
   "source": [
    "def jumpingOnClouds(c):\n",
    "    i = len(c)-1\n",
    "    count = 0\n",
    "    while i > 0:\n",
    "        if i-2 >= 0 and c[i-2] == 0:\n",
    "            i -= 2\n",
    "        else:\n",
    "            i -= 1\n",
    "        count += 1\n",
    "\n",
    "    return count"
   ]
  }
 ],
 "metadata": {
  "kernelspec": {
   "display_name": "base",
   "language": "python",
   "name": "python3"
  },
  "language_info": {
   "codemirror_mode": {
    "name": "ipython",
    "version": 3
   },
   "file_extension": ".py",
   "mimetype": "text/x-python",
   "name": "python",
   "nbconvert_exporter": "python",
   "pygments_lexer": "ipython3",
   "version": "3.7.13"
  },
  "orig_nbformat": 4
 },
 "nbformat": 4,
 "nbformat_minor": 2
}
