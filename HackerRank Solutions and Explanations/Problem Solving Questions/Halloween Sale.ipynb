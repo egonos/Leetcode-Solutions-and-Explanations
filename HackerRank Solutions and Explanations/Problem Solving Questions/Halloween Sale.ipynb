{
 "cells": [
  {
   "attachments": {},
   "cell_type": "markdown",
   "metadata": {},
   "source": [
    "# Explanation\n",
    "\n",
    "My solution basically counts the number of purchases, considering the instructions in the question statement:\n",
    "\n",
    "* Define base case: s < p\n",
    "* Stop when there is not enough cash: `if s < current_price: break`\n",
    "* When the price is below m, revalue the price equal to m: `if current_price < m: current_price = m`\n",
    "*  Add the last game bought before the money became less than the current price: `game_count += 1`\n"
   ]
  },
  {
   "cell_type": "code",
   "execution_count": 1,
   "metadata": {},
   "outputs": [],
   "source": [
    "def howManyGames(p, d, m, s):\n",
    "    game_count = 0\n",
    "    current_price = p\n",
    "    if s < p: return 0\n",
    "    while s > 0:\n",
    "        s-= current_price\n",
    "        if s < current_price:\n",
    "            break\n",
    "        else:\n",
    "            game_count +=1\n",
    "            \n",
    "        current_price -= d\n",
    "        if current_price < m:\n",
    "            current_price = m\n",
    "            \n",
    "    return game_count +1"
   ]
  }
 ],
 "metadata": {
  "kernelspec": {
   "display_name": "base",
   "language": "python",
   "name": "python3"
  },
  "language_info": {
   "codemirror_mode": {
    "name": "ipython",
    "version": 3
   },
   "file_extension": ".py",
   "mimetype": "text/x-python",
   "name": "python",
   "nbconvert_exporter": "python",
   "pygments_lexer": "ipython3",
   "version": "3.7.13"
  },
  "orig_nbformat": 4
 },
 "nbformat": 4,
 "nbformat_minor": 2
}
