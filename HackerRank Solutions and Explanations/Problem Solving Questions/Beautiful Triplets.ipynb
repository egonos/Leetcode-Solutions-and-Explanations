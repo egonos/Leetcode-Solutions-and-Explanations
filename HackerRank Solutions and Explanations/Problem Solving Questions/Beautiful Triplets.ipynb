{
 "cells": [
  {
   "attachments": {},
   "cell_type": "markdown",
   "metadata": {},
   "source": [
    "# Explanation\n",
    "\n",
    "For this problem, I used a stack. The code basically do the following:\n",
    "\n",
    "* If the lists in the stack ends with `number_in_consideration - d` then it appends it to the end of that list.\n",
    "\n",
    "* Besides that the code adds the `number_in_consideration` as a separate list.\n",
    "\n",
    "**Note:** Since we are using a for loop we guarantee that `i < j < k`"
   ]
  },
  {
   "cell_type": "code",
   "execution_count": null,
   "metadata": {},
   "outputs": [],
   "source": [
    "def beautifulTriplets(d, arr):\n",
    "    \n",
    "    \n",
    "    stack = []\n",
    "    for i in range(len(arr)):\n",
    "        if not stack:\n",
    "            stack.append([arr[i]])\n",
    "        \n",
    "        else:\n",
    "            for lst in stack:\n",
    "                if len(lst) == 3:\n",
    "                    \n",
    "                    continue\n",
    "                if lst[-1] == arr[i] - d:\n",
    "                    lst.append(arr[i])\n",
    "            \n",
    "            stack.append([arr[i]])\n",
    "\n",
    "    #print(stack)\n",
    "    count = sum([1 for lst in stack if len(lst) == 3])\n",
    "    return count"
   ]
  }
 ],
 "metadata": {
  "language_info": {
   "name": "python"
  },
  "orig_nbformat": 4
 },
 "nbformat": 4,
 "nbformat_minor": 2
}
