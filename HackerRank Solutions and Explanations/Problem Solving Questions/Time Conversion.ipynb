{
 "cells": [
  {
   "attachments": {},
   "cell_type": "markdown",
   "metadata": {},
   "source": [
    "# Explanation\n",
    "\n",
    "Important parts:\n",
    "\n",
    "* Consider 12 situation (should be handled differently in AM and PM)\n",
    "\n",
    "AM: 12 -> 0\n",
    "PM: return as it is.\n",
    "* Consider the AM/PM cases. \n",
    "\n",
    "AM: Leave as it is.\n",
    "PM: Add 12 to the h; 1 -> 13\n",
    "\n",
    "Keep minutes the same.\n"
   ]
  },
  {
   "cell_type": "code",
   "execution_count": null,
   "metadata": {},
   "outputs": [],
   "source": [
    "def timeConversion(s):\n",
    "    if s[-2:] == \"AM\":\n",
    "        if int(s[0:2]) == 12:\n",
    "            return '00'+s[2:-2]\n",
    "        else:\n",
    "            return s[:-2]\n",
    "        \n",
    "    else:\n",
    "        if s[0:2] == '12':\n",
    "            return s[:-2]\n",
    "        else:\n",
    "            return str(int(s[:2])+12)+s[2:-2]\n",
    "            "
   ]
  }
 ],
 "metadata": {
  "language_info": {
   "name": "python"
  },
  "orig_nbformat": 4
 },
 "nbformat": 4,
 "nbformat_minor": 2
}
